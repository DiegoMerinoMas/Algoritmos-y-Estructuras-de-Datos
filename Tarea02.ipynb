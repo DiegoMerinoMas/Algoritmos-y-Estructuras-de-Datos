{
  "nbformat": 4,
  "nbformat_minor": 0,
  "metadata": {
    "colab": {
      "name": "Tarea02.ipynb",
      "provenance": [],
      "authorship_tag": "ABX9TyNb7PdxHSBfbuEKKpRcuRyn",
      "include_colab_link": true
    },
    "kernelspec": {
      "name": "python3",
      "display_name": "Python 3"
    },
    "language_info": {
      "name": "python"
    }
  },
  "cells": [
    {
      "cell_type": "markdown",
      "metadata": {
        "id": "view-in-github",
        "colab_type": "text"
      },
      "source": [
        "<a href=\"https://colab.research.google.com/github/DiegoMerinoMas/Algoritmos-y-Estructuras-de-Datos/blob/main/Tarea02.ipynb\" target=\"_parent\"><img src=\"https://colab.research.google.com/assets/colab-badge.svg\" alt=\"Open In Colab\"/></a>"
      ]
    },
    {
      "cell_type": "code",
      "execution_count": 1,
      "metadata": {
        "colab": {
          "base_uri": "https://localhost:8080/"
        },
        "id": "gWr9qO4SDFcR",
        "outputId": "88abd1cb-e3c6-42a9-c1ff-7cadcc5976ba"
      },
      "outputs": [
        {
          "output_type": "stream",
          "name": "stdout",
          "text": [
            "Writing Ejercicio03.cpp\n"
          ]
        }
      ],
      "source": [
        "%%writefile Ejercicio03.cpp\n",
        "#include<iostream>\n",
        "#include<cstdlib>\n",
        "#include<ctime>\n",
        "#include<cmath>\n",
        "using namespace std;\n",
        "void recursivasDividir(int n, int large) {\n",
        "    if (n == 0) {\n",
        "        cout << \"No tienes ninguna hoja A0 para comenzar.\" << endl;\n",
        "    }\n",
        "    else {\n",
        "        if (large > 0) {\n",
        "            cout << \"Se ha dividido en \" << n * 2 << \" hojas A\" << fabs(large - 4) + 1 << endl;\n",
        "        }\n",
        "        if (large == 0) {\n",
        "            cout << \"Se ha dividido en un total de \" << n << \" hojas A4\" << endl;\n",
        "        }\n",
        "        else {\n",
        "            large--;\n",
        "            recursivasDividir(n * 2, large);\n",
        "        }\n",
        "    }\n",
        "}\n",
        "int main() {\n",
        "    int N;\n",
        "    cout << \"Ingrese el numero de hojas A0 a dividir: \"; cin >> N;\n",
        "    recursivasDividir(N, 4);\n",
        "}"
      ]
    },
    {
      "cell_type": "code",
      "source": [
        "!g++ -std=c++1z Ejercicio03.cpp && ./a.out"
      ],
      "metadata": {
        "colab": {
          "base_uri": "https://localhost:8080/"
        },
        "id": "aNQX0EnmH-Df",
        "outputId": "041dea13-b50d-4cd8-cf37-90ef767e92f8"
      },
      "execution_count": 4,
      "outputs": [
        {
          "output_type": "stream",
          "name": "stdout",
          "text": [
            "Ingrese el numero de hojas A0 a dividir: 4\n",
            "Se ha dividido en 8 hojas A1\n",
            "Se ha dividido en 16 hojas A2\n",
            "Se ha dividido en 32 hojas A3\n",
            "Se ha dividido en 64 hojas A4\n",
            "Se ha dividido en un total de 64 hojas A4\n"
          ]
        }
      ]
    },
    {
      "cell_type": "code",
      "source": [
        "%%writefile Ejercicio04.cpp\n",
        "#include<iostream>\n",
        "#include<cstdlib>\n",
        "#include<ctime>\n",
        "using namespace std;\n",
        "\n",
        "void arrayRandom(int *array, int size)\n",
        "{\n",
        "    for (int i = 0; i < size; i++)\n",
        "    {\n",
        "        array[i] = rand() % 100;\n",
        "    }\n",
        "}\n",
        "void imprimirRecursivo(int *array, int size)\n",
        "{\n",
        "    if (size == 0)\n",
        "        return;\n",
        "    cout << array[size - 1] << \" \";\n",
        "    imprimirRecursivo(array, size - 1);\n",
        "}\n",
        "\n",
        "int main()\n",
        "{\n",
        "    srand(time(NULL));\n",
        "    int size;\n",
        "    cout << \"Ingrese el numero de elementos: \";\n",
        "    cin >> size;\n",
        "    int *array = new int[size];\n",
        "    arrayRandom(array, size);\n",
        "    cout << \"Array: \";\n",
        "    imprimirRecursivo(array, size);\n",
        "    delete[] array;\n",
        "    return 0;\n",
        "}"
      ],
      "metadata": {
        "colab": {
          "base_uri": "https://localhost:8080/"
        },
        "id": "LA5fsa-LIMU-",
        "outputId": "c798c0c1-6123-4ad1-9208-fbc5988facfc"
      },
      "execution_count": 9,
      "outputs": [
        {
          "output_type": "stream",
          "name": "stdout",
          "text": [
            "Overwriting Ejercicio04.cpp\n"
          ]
        }
      ]
    },
    {
      "cell_type": "code",
      "source": [
        "!g++ -std=c++1z Ejercicio04.cpp && ./a.out"
      ],
      "metadata": {
        "colab": {
          "base_uri": "https://localhost:8080/"
        },
        "id": "TtZsqdbFIXns",
        "outputId": "3fefe0b6-1356-4bcd-b11e-54d19fa87e64"
      },
      "execution_count": 10,
      "outputs": [
        {
          "output_type": "stream",
          "name": "stdout",
          "text": [
            "Ingrese el numero de elementos: 4\n",
            "Array: 47 36 2 11 "
          ]
        }
      ]
    }
  ]
}